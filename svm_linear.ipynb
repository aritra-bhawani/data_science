{
 "cells": [
  {
   "cell_type": "markdown",
   "metadata": {},
   "source": [
    "# SVM - Support Vector Machine\n"
   ]
  },
  {
   "cell_type": "code",
   "execution_count": 1,
   "metadata": {},
   "outputs": [],
   "source": [
    "import numpy as np\n",
    "from matplotlib import pyplot as plt\n",
    "from matplotlib import style\n",
    "import csv"
   ]
  },
  {
   "cell_type": "code",
   "execution_count": 2,
   "metadata": {},
   "outputs": [],
   "source": [
    "style.use('ggplot')"
   ]
  },
  {
   "cell_type": "code",
   "execution_count": 3,
   "metadata": {},
   "outputs": [],
   "source": [
    "#sepal:sp, petal:pl, length:l, breadth:b, class = Iris Setosa, Iris Versicolour, Iris Virginica\n",
    "\n",
    "(sp_l, sp_b, pl_l, pl_b, c) = ([],[],[],[],[])\n",
    "with open('iris_data.txt', 'r') as csv_file:\n",
    "    csv_reader = csv.reader(csv_file)\n",
    "    for line in csv_reader:\n",
    "        sp_l.append(float(line[0]))\n",
    "        sp_b.append(float(line[1]))\n",
    "        pl_l.append(float(line[2]))\n",
    "        pl_b.append(float(line[3]))\n",
    "        c.append(line[4])\n",
    "sp_l = np.array(sp_l)\n",
    "sp_b = np.array(sp_b)\n",
    "pl_l = np.array(pl_l)\n",
    "pl_b = np.array(pl_b)"
   ]
  },
  {
   "cell_type": "code",
   "execution_count": 4,
   "metadata": {},
   "outputs": [
    {
     "data": {
      "image/png": "[encoded data removed]",
      "text/plain": [
       "<Figure size 432x288 with 1 Axes>"
      ]
     },
     "metadata": {},
     "output_type": "display_data"
    }
   ],
   "source": [
    "#plt.scatter(sp_l, sp_b, label = 'plot', color = 'blue', marker = '+')\n",
    "#print c\n",
    "for i in range(len(c)):\n",
    "    if (str(c[i]) == 'Iris-setosa'):\n",
    "        plt.scatter(pl_b[i]/pl_l[i], sp_b[i]/sp_l[i], color = 'blue', marker = '+')\n",
    "    elif (str(c[i]) == 'Iris-versicolor'):\n",
    "        plt.scatter(pl_b[i]/pl_l[i], sp_b[i]/sp_l[i], color = 'green', marker = '.')\n",
    "    elif (str(c[i]) == 'Iris-virginica'):\n",
    "        plt.scatter(pl_b[i]/pl_l[i], sp_b[i]/sp_l[i], color = 'red', marker = '*')\n",
    "plt.xlabel('petal breadth / petal length')\n",
    "plt.ylabel('sepal breadth / sepal length')\n",
    "plt.title('plot')\n",
    "plt.legend()\n",
    "plt.show()"
   ]
  },
  {
   "cell_type": "code",
   "execution_count": 5,
   "metadata": {},
   "outputs": [],
   "source": [
    "class Support_Vector_Machine:\n",
    "    def __init__(self, visualization=True):\n",
    "        self.visualization = visualization\n",
    "        self.colors = {1:'r',-1:'b'}\n",
    "        if self.visualization:\n",
    "            self.fig = plt.figure()\n",
    "            self.ax = self.fig.add_subplot(1,1,1)\n",
    "    \n",
    "    #training the data set\n",
    "    def fit(self, data):\n",
    "        self.data = data\n",
    "        #{|w|:[w,b]}\n",
    "        opt_dict = {}\n",
    "        transforms = [[1,1],\n",
    "                      [-1,1],\n",
    "                      [-1,-1],\n",
    "                      [1,-1]]\n",
    "        \n",
    "        all_data = []\n",
    "        for yi in self.data:\n",
    "            for featureset in self.data[yi]:\n",
    "                for feature in featureset:\n",
    "                    all_data.append(feature)\n",
    "                    \n",
    "        self.max_feature_value = max(all_data)\n",
    "        self.min_feature_value = min(all_data)\n",
    "        all_data = None\n",
    "        \n",
    "        step_sizes = [self.max_feature_value * 0.1,\n",
    "                     self.max_feature_value * 0.01,\n",
    "                     self.max_feature_value * 0.001]\n",
    "        #expensive\n",
    "        b_range_multiple = 5\n",
    "        #not taking small of steps\n",
    "        #with b as we do with w\n",
    "        b_multiple = 5\n",
    "        latest_optimum = self.max_feature_value*10\n",
    "        \n",
    "        for step in step_sizes:\n",
    "            w = np.array([latest_optimum,latest_optimum])\n",
    "            optimized = False\n",
    "            while not optimized:\n",
    "                for b in np.arange(-1*(self.max_feature_value*b_range_multiple),\n",
    "                                  self.max_feature_value*b_range_multiple, \n",
    "                                  step*b_multiple):\n",
    "                    for transformation in transforms:\n",
    "                        w_t = w*transformation\n",
    "                        found_option = True\n",
    "                        #weakest link in the SVM fundamentally\n",
    "                        #SMO attempts to fix this a bit\n",
    "                        # yi(xi.w+b)>=1\n",
    "                        for i in self.data:\n",
    "                            for xi in self.data[i]:\n",
    "                                yi = i\n",
    "                                if not yi*(np.dot(w_t,xi)+b)>=1:\n",
    "                                    found_option = False\n",
    "                        if found_option:\n",
    "                            opt_dict[np.linalg.norm(w_t)] = [w_t,b]\n",
    "                if w[0] < 0:\n",
    "                    optimized = True\n",
    "                    print ('Optimized a step')\n",
    "                else:\n",
    "                    w = w - step\n",
    "            \n",
    "            norms = sorted([n for n in opt_dict])\n",
    "#             print opt_dict\n",
    "#             print norms\n",
    "            opt_choice = opt_dict[norms[0]]\n",
    "            self.w = opt_choice[0]\n",
    "            self.b = opt_choice[1]\n",
    "            latest_optimum = opt_choice[0][0]+step*2\n",
    "        \n",
    "    \n",
    "    def predict(self, features):\n",
    "        # sign(x.w+b)\n",
    "        classification = np.sign(np.dot(np.array(features),self.w)+self.b)\n",
    "        if classification !=0 and self.visualization:\n",
    "            self.ax.scatter(features[0], features[1], marker='*', c=self.colors[classification])\n",
    "        return classification \n",
    "    \n",
    "    \n",
    "    def visualize(self):\n",
    "        [[self.ax.scatter(x[0],x[1],color=self.colors[i]) for x in data_dict[i]] for i in data_dict]\n",
    "        \n",
    "        def hyperplane(x,w,b,v):\n",
    "            return (-w[0]*x-b+v) / w[1]\n",
    "        datarange = (self.min_feature_value*0.9,self.max_feature_value*1.1)\n",
    "        hyp_x_min = datarange[0]\n",
    "        hyp_x_max = datarange[1]\n",
    "        \n",
    "        #for (w.x+b) = 1\n",
    "        psv1 = hyperplane(hyp_x_min, self.w, self.b, 1)\n",
    "        psv2 = hyperplane(hyp_x_max, self.w, self.b, 1)\n",
    "        self.ax.plot([hyp_x_min,hyp_x_max],[psv1,psv2],'k')\n",
    "        \n",
    "        #for (w.x+b) = -1\n",
    "        nsv1 = hyperplane(hyp_x_min, self.w, self.b, -1)\n",
    "        nsv2 = hyperplane(hyp_x_max, self.w, self.b, -1)\n",
    "        self.ax.plot([hyp_x_min,hyp_x_max],[nsv1,nsv2],'k')\n",
    "        \n",
    "        #for (w.x+b) = 0\n",
    "        db1 = hyperplane(hyp_x_min, self.w, self.b, 0)\n",
    "        db2 = hyperplane(hyp_x_max, self.w, self.b, 0)\n",
    "        self.ax.plot([hyp_x_min,hyp_x_max],[db1,db2],'y--')\n",
    "        \n",
    "        plt.show()\n",
    "        \n",
    "    "
   ]
  },
  {
   "cell_type": "code",
   "execution_count": 6,
   "metadata": {},
   "outputs": [
    {
     "name": "stdout",
     "output_type": "stream",
     "text": [
      "{1: array([[ 5,  1],\n",
      "       [ 6, -1],\n",
      "       [ 7,  3]]), -1: array([[1, 7],\n",
      "       [2, 8],\n",
      "       [3, 8]])}\n"
     ]
    }
   ],
   "source": [
    "data_dict = {-1:np.array([[1,7],\n",
    "                          [2,8],\n",
    "                          [3,8]]),\n",
    "              1:np.array([[5,1],\n",
    "                          [6,-1],\n",
    "                          [7,3]])}\n",
    "print data_dict\n"
   ]
  },
  {
   "cell_type": "code",
   "execution_count": 7,
   "metadata": {},
   "outputs": [
    {
     "name": "stdout",
     "output_type": "stream",
     "text": [
      "Optimized a step\n",
      "Optimized a step\n",
      "Optimized a step\n"
     ]
    },
    {
     "data": {
      "image/png": "[encoded data removed]",
      "text/plain": [
       "<Figure size 432x288 with 1 Axes>"
      ]
     },
     "metadata": {},
     "output_type": "display_data"
    }
   ],
   "source": [
    "svm = Support_Vector_Machine()\n",
    "svm.fit(data=data_dict)\n",
    "\n",
    "predict_us = [[0,10],[1,3],[3,4],[3,5],[5,5],[5,6],[6,-5],[5,8]]\n",
    "for p in predict_us:\n",
    "    svm.predict(p)\n",
    "\n",
    "svm.visualize()"
   ]
  },
  {
   "cell_type": "code",
   "execution_count": 8,
   "metadata": {
    "scrolled": true
   },
   "outputs": [
    {
     "data": {
      "text/plain": [
       "-1.0"
      ]
     },
     "execution_count": 8,
     "metadata": {},
     "output_type": "execute_result"
    }
   ],
   "source": [
    "svm.predict([5,20])"
   ]
  },
  {
   "cell_type": "code",
   "execution_count": 9,
   "metadata": {
    "scrolled": false
   },
   "outputs": [
    {
     "data": {
      "image/png": "[encoded data removed]",
      "text/plain": [
       "<Figure size 432x288 with 1 Axes>"
      ]
     },
     "metadata": {},
     "output_type": "display_data"
    },
    {
     "name": "stdout",
     "output_type": "stream",
     "text": [
      "{1: array([[4.16666667, 5.23809524],\n",
      "       [3.33333333, 5.55555556],\n",
      "       [2.9787234 , 4.57142857],\n",
      "       [2.5       , 4.26229508],\n",
      "       [3.92857143, 4.375     ],\n",
      "       [3.7254902 , 4.65517241],\n",
      "       [3.52941176, 5.08474576],\n",
      "       [3.89830508, 4.70588235],\n",
      "       [2.85714286, 4.56140351],\n",
      "       [3.27272727, 4.61538462],\n",
      "       [3.92857143, 4.375     ],\n",
      "       [3.0952381 , 5.0877193 ],\n",
      "       [3.75      , 5.42372881],\n",
      "       [4.28571429, 5.3968254 ],\n",
      "       [2.85714286, 4.        ],\n",
      "       [3.55932203, 4.22535211],\n",
      "       [3.28358209, 4.93506494],\n",
      "       [2.82608696, 4.39393939],\n",
      "       [2.98507463, 3.63636364],\n",
      "       [3.75      , 5.42372881]]), -1: array([[1.53846154, 6.80851064],\n",
      "       [1.25      , 7.08333333],\n",
      "       [1.42857143, 6.6       ],\n",
      "       [1.42857143, 7.63636364],\n",
      "       [2.10526316, 7.45098039],\n",
      "       [1.66666667, 6.89655172],\n",
      "       [3.75      , 7.        ],\n",
      "       [2.10526316, 7.45098039],\n",
      "       [0.90909091, 6.97674419],\n",
      "       [1.17647059, 6.2962963 ],\n",
      "       [1.25      , 6.        ],\n",
      "       [1.25      , 6.        ],\n",
      "       [2.14285714, 7.39130435],\n",
      "       [1.25      , 6.80851064],\n",
      "       [3.07692308, 7.22222222],\n",
      "       [2.30769231, 7.        ],\n",
      "       [3.75      , 7.        ],\n",
      "       [1.42857143, 6.95652174],\n",
      "       [1.33333333, 6.73913043],\n",
      "       [1.66666667, 6.4       ]])}\n",
      "20\n",
      "20\n"
     ]
    }
   ],
   "source": [
    "import random\n",
    "(c1,c2) = ([],[])\n",
    "(cn1,cn2) = ([],[])\n",
    "for i in range(len(c)):\n",
    "    if (str(c[i]) == 'Iris-setosa'):\n",
    "        c1.append([pl_b[i]/pl_l[i]*10, sp_b[i]/sp_l[i]*10])\n",
    "        plt.scatter(pl_b[i]/pl_l[i]*10, sp_b[i]/sp_l[i]*10, color = 'blue', marker = '+')\n",
    "    else:\n",
    "        c2.append([pl_b[i]/pl_l[i]*10, sp_b[i]/sp_l[i]*10])\n",
    "        plt.scatter(pl_b[i]/pl_l[i]*10, sp_b[i]/sp_l[i]*10, color = 'red', marker = 'x')\n",
    "plt.show()        \n",
    "#print c1\n",
    "# print len(c1)\n",
    "# print len(c2)\n",
    "for i in range(20):\n",
    "    cn1.append(c1[random.randint(0,49)])\n",
    "    cn2.append(c2[random.randint(0,99)])\n",
    "\n",
    "data_dict = {-1:np.array(cn1),1:np.array(cn2)}\n",
    "print data_dict\n",
    "print len(cn1)\n",
    "print len(cn2)\n"
   ]
  },
  {
   "cell_type": "code",
   "execution_count": null,
   "metadata": {},
   "outputs": [
    {
     "name": "stdout",
     "output_type": "stream",
     "text": [
      "Optimized a step\n"
     ]
    }
   ],
   "source": [
    "svm1 = Support_Vector_Machine()\n",
    "svm1.fit(data=data_dict)\n",
    "\n",
    "predict_us = [[3, 3],[1,10],[3,2],[3,3],[5,5],[5,6],[6,8],[5,8]]\n",
    "for p in predict_us:\n",
    "    svm1.predict(p)\n",
    "\n",
    "svm1.visualize()"
   ]
  },
  {
   "cell_type": "code",
   "execution_count": null,
   "metadata": {},
   "outputs": [],
   "source": []
  }
 ],
 "metadata": {
  "kernelspec": {
   "display_name": "Python 2",
   "language": "python",
   "name": "python2"
  },
  "language_info": {
   "codemirror_mode": {
    "name": "ipython",
    "version": 2
   },
   "file_extension": ".py",
   "mimetype": "text/x-python",
   "name": "python",
   "nbconvert_exporter": "python",
   "pygments_lexer": "ipython2",
   "version": "2.7.15"
  }
 },
 "nbformat": 4,
 "nbformat_minor": 2
}
